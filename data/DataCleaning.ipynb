{
 "cells": [
  {
   "cell_type": "markdown",
   "metadata": {},
   "source": [
    "# Data Cleaning"
   ]
  },
  {
   "cell_type": "code",
   "execution_count": 53,
   "metadata": {},
   "outputs": [],
   "source": [
    "import pandas as pd"
   ]
  },
  {
   "cell_type": "code",
   "execution_count": 54,
   "metadata": {},
   "outputs": [
    {
     "data": {
      "text/html": [
       "<div>\n",
       "<style scoped>\n",
       "    .dataframe tbody tr th:only-of-type {\n",
       "        vertical-align: middle;\n",
       "    }\n",
       "\n",
       "    .dataframe tbody tr th {\n",
       "        vertical-align: top;\n",
       "    }\n",
       "\n",
       "    .dataframe thead th {\n",
       "        text-align: right;\n",
       "    }\n",
       "</style>\n",
       "<table border=\"1\" class=\"dataframe\">\n",
       "  <thead>\n",
       "    <tr style=\"text-align: right;\">\n",
       "      <th></th>\n",
       "      <th>ID</th>\n",
       "      <th>City</th>\n",
       "      <th>Location</th>\n",
       "      <th>PType</th>\n",
       "      <th>PPN</th>\n",
       "      <th>Nights</th>\n",
       "      <th>Beds</th>\n",
       "      <th>Baths</th>\n",
       "      <th>Reviews</th>\n",
       "      <th>Recent</th>\n",
       "    </tr>\n",
       "  </thead>\n",
       "  <tbody>\n",
       "    <tr>\n",
       "      <th>0</th>\n",
       "      <td>IND137</td>\n",
       "      <td>Mumbai</td>\n",
       "      <td>NaN</td>\n",
       "      <td>Entire Home/Apartment</td>\n",
       "      <td>₹3,200</td>\n",
       "      <td>2.0</td>\n",
       "      <td>1.0</td>\n",
       "      <td>1.0</td>\n",
       "      <td>4.0</td>\n",
       "      <td>2022-03-12</td>\n",
       "    </tr>\n",
       "    <tr>\n",
       "      <th>1</th>\n",
       "      <td>IND138</td>\n",
       "      <td>Bangalor</td>\n",
       "      <td>Indiranagar</td>\n",
       "      <td>Private Room</td>\n",
       "      <td>1800</td>\n",
       "      <td>NaN</td>\n",
       "      <td>1.0</td>\n",
       "      <td>1.0</td>\n",
       "      <td>2.0</td>\n",
       "      <td>15-Feb-23</td>\n",
       "    </tr>\n",
       "    <tr>\n",
       "      <th>2</th>\n",
       "      <td>IND139</td>\n",
       "      <td>Delhi</td>\n",
       "      <td>Hauz Khas</td>\n",
       "      <td>Entire Home/Apartment</td>\n",
       "      <td>₹4200</td>\n",
       "      <td>3.0</td>\n",
       "      <td>2.0</td>\n",
       "      <td>2.0</td>\n",
       "      <td>NaN</td>\n",
       "      <td>2021/12/25</td>\n",
       "    </tr>\n",
       "    <tr>\n",
       "      <th>3</th>\n",
       "      <td>IND140</td>\n",
       "      <td>Chennai</td>\n",
       "      <td>Teynampet</td>\n",
       "      <td>Shared Room</td>\n",
       "      <td>₹1,000</td>\n",
       "      <td>1.0</td>\n",
       "      <td>NaN</td>\n",
       "      <td>1.0</td>\n",
       "      <td>1.0</td>\n",
       "      <td>May 5, 2022</td>\n",
       "    </tr>\n",
       "    <tr>\n",
       "      <th>4</th>\n",
       "      <td>IND141</td>\n",
       "      <td>Hyderabad</td>\n",
       "      <td>Jubilee Hills</td>\n",
       "      <td>Entire Home/Apartment</td>\n",
       "      <td>3800</td>\n",
       "      <td>3.0</td>\n",
       "      <td>3.0</td>\n",
       "      <td>3.0</td>\n",
       "      <td>5.0</td>\n",
       "      <td>2022-08-20 14:00</td>\n",
       "    </tr>\n",
       "  </tbody>\n",
       "</table>\n",
       "</div>"
      ],
      "text/plain": [
       "       ID       City      Location                   PType     PPN  Nights  \\\n",
       "0  IND137     Mumbai            NaN  Entire Home/Apartment  ₹3,200     2.0   \n",
       "1  IND138   Bangalor    Indiranagar           Private Room    1800     NaN   \n",
       "2  IND139      Delhi      Hauz Khas  Entire Home/Apartment   ₹4200     3.0   \n",
       "3  IND140    Chennai      Teynampet            Shared Room  ₹1,000     1.0   \n",
       "4  IND141  Hyderabad  Jubilee Hills  Entire Home/Apartment    3800     3.0   \n",
       "\n",
       "   Beds  Baths  Reviews            Recent  \n",
       "0   1.0    1.0      4.0        2022-03-12  \n",
       "1   1.0    1.0      2.0         15-Feb-23  \n",
       "2   2.0    2.0      NaN        2021/12/25  \n",
       "3   NaN    1.0      1.0       May 5, 2022  \n",
       "4   3.0    3.0      5.0  2022-08-20 14:00  "
      ]
     },
     "execution_count": 54,
     "metadata": {},
     "output_type": "execute_result"
    }
   ],
   "source": [
    "df = pd.read_csv(\"/home/nineleaps/Python_training/data/cap_rooms.csv\")\n",
    "df.head()"
   ]
  },
  {
   "cell_type": "code",
   "execution_count": 55,
   "metadata": {},
   "outputs": [
    {
     "data": {
      "text/plain": [
       "ID           0\n",
       "City         0\n",
       "Location     2\n",
       "PType        0\n",
       "PPN          0\n",
       "Nights       1\n",
       "Beds         8\n",
       "Baths        7\n",
       "Reviews      9\n",
       "Recent       0\n",
       "dtype: int64"
      ]
     },
     "execution_count": 55,
     "metadata": {},
     "output_type": "execute_result"
    }
   ],
   "source": [
    "df.isna().sum()"
   ]
  },
  {
   "cell_type": "code",
   "execution_count": 56,
   "metadata": {},
   "outputs": [],
   "source": [
    "df['Nights'] = df.Nights.fillna(df.Nights.mean())\n",
    "df['Beds'] = df.Beds.fillna(df.Beds.median())\n",
    "df['Baths'] = df.Baths.fillna(df.Baths.median())\n",
    "df['Reviews'] = df.Reviews.fillna(df.Reviews.mean())"
   ]
  },
  {
   "cell_type": "code",
   "execution_count": 57,
   "metadata": {},
   "outputs": [
    {
     "data": {
      "text/plain": [
       "ID           0\n",
       "City         0\n",
       "Location     2\n",
       "PType        0\n",
       "PPN          0\n",
       "Nights       0\n",
       "Beds         0\n",
       "Baths        0\n",
       "Reviews      0\n",
       "Recent       0\n",
       "dtype: int64"
      ]
     },
     "execution_count": 57,
     "metadata": {},
     "output_type": "execute_result"
    }
   ],
   "source": [
    "df.isna().sum()"
   ]
  },
  {
   "cell_type": "code",
   "execution_count": 58,
   "metadata": {},
   "outputs": [],
   "source": [
    "df[\"Location \"] = df['Location '].fillna(\"Unknown\")"
   ]
  },
  {
   "cell_type": "code",
   "execution_count": 59,
   "metadata": {},
   "outputs": [
    {
     "data": {
      "text/plain": [
       "ID           0\n",
       "City         0\n",
       "Location     0\n",
       "PType        0\n",
       "PPN          0\n",
       "Nights       0\n",
       "Beds         0\n",
       "Baths        0\n",
       "Reviews      0\n",
       "Recent       0\n",
       "dtype: int64"
      ]
     },
     "execution_count": 59,
     "metadata": {},
     "output_type": "execute_result"
    }
   ],
   "source": [
    "df.isna().sum()"
   ]
  },
  {
   "cell_type": "code",
   "execution_count": 60,
   "metadata": {},
   "outputs": [
    {
     "data": {
      "text/plain": [
       "array(['Mumbai', 'Bangalor', 'Delhi', 'Chennai', 'Hyderabad', 'Pune',\n",
       "       'Kolkata', 'Bangalore', 'Hydrabad', 'Delhi '], dtype=object)"
      ]
     },
     "execution_count": 60,
     "metadata": {},
     "output_type": "execute_result"
    }
   ],
   "source": [
    "df.City.unique()"
   ]
  },
  {
   "cell_type": "code",
   "execution_count": 61,
   "metadata": {},
   "outputs": [
    {
     "data": {
      "text/plain": [
       "array(['Mumbai', 'Bangalore', 'Delhi', 'Chennai', 'Hyderabad', 'Pune',\n",
       "       'Kolkata'], dtype=object)"
      ]
     },
     "execution_count": 61,
     "metadata": {},
     "output_type": "execute_result"
    }
   ],
   "source": [
    "df['City'] = df.City.replace(\n",
    "    {\n",
    "    'Bangalor$' : 'Bangalore',\n",
    "    'Delhi ' : 'Delhi',\n",
    "    'Hydrabad' : 'Hyderabad'\n",
    "    },\n",
    "regex = True\n",
    ")\n",
    "df['City'].unique()"
   ]
  },
  {
   "cell_type": "code",
   "execution_count": 62,
   "metadata": {},
   "outputs": [
    {
     "data": {
      "text/plain": [
       "array(['₹3,200', '1800', '₹4200', '₹1,000', '3800', '₹2,500', '₹2800',\n",
       "       '₹800', '₹5200', 'One Thousand Five Hundred', '₹4500', '₹1200',\n",
       "       '₹900', '₹3800', 'Two Thousand', '₹3200', '₹600', '₹5800', '₹1000',\n",
       "       '₹4800', '₹5000', '₹1500', '₹700', 'Eight Hundred', '₹500',\n",
       "       '₹6500', '₹1800', '₹7500', '₹5500', '₹6800', '₹6200', '₹7000',\n",
       "       '₹8000'], dtype=object)"
      ]
     },
     "execution_count": 62,
     "metadata": {},
     "output_type": "execute_result"
    }
   ],
   "source": [
    "df.PPN.unique()"
   ]
  },
  {
   "cell_type": "code",
   "execution_count": 63,
   "metadata": {},
   "outputs": [
    {
     "data": {
      "text/html": [
       "<div>\n",
       "<style scoped>\n",
       "    .dataframe tbody tr th:only-of-type {\n",
       "        vertical-align: middle;\n",
       "    }\n",
       "\n",
       "    .dataframe tbody tr th {\n",
       "        vertical-align: top;\n",
       "    }\n",
       "\n",
       "    .dataframe thead th {\n",
       "        text-align: right;\n",
       "    }\n",
       "</style>\n",
       "<table border=\"1\" class=\"dataframe\">\n",
       "  <thead>\n",
       "    <tr style=\"text-align: right;\">\n",
       "      <th></th>\n",
       "      <th>ID</th>\n",
       "      <th>City</th>\n",
       "      <th>Location</th>\n",
       "      <th>PType</th>\n",
       "      <th>PPN</th>\n",
       "      <th>Nights</th>\n",
       "      <th>Beds</th>\n",
       "      <th>Baths</th>\n",
       "      <th>Reviews</th>\n",
       "      <th>Recent</th>\n",
       "    </tr>\n",
       "  </thead>\n",
       "  <tbody>\n",
       "    <tr>\n",
       "      <th>0</th>\n",
       "      <td>IND137</td>\n",
       "      <td>Mumbai</td>\n",
       "      <td>Unknown</td>\n",
       "      <td>Entire Home/Apartment</td>\n",
       "      <td>3200</td>\n",
       "      <td>2.000000</td>\n",
       "      <td>1.0</td>\n",
       "      <td>1.0</td>\n",
       "      <td>4.000000</td>\n",
       "      <td>2022-03-12</td>\n",
       "    </tr>\n",
       "    <tr>\n",
       "      <th>1</th>\n",
       "      <td>IND138</td>\n",
       "      <td>Bangalore</td>\n",
       "      <td>Indiranagar</td>\n",
       "      <td>Private Room</td>\n",
       "      <td>1800</td>\n",
       "      <td>1.959184</td>\n",
       "      <td>1.0</td>\n",
       "      <td>1.0</td>\n",
       "      <td>2.000000</td>\n",
       "      <td>15-Feb-23</td>\n",
       "    </tr>\n",
       "    <tr>\n",
       "      <th>2</th>\n",
       "      <td>IND139</td>\n",
       "      <td>Delhi</td>\n",
       "      <td>Hauz Khas</td>\n",
       "      <td>Entire Home/Apartment</td>\n",
       "      <td>4200</td>\n",
       "      <td>3.000000</td>\n",
       "      <td>2.0</td>\n",
       "      <td>2.0</td>\n",
       "      <td>3.853659</td>\n",
       "      <td>2021/12/25</td>\n",
       "    </tr>\n",
       "    <tr>\n",
       "      <th>3</th>\n",
       "      <td>IND140</td>\n",
       "      <td>Chennai</td>\n",
       "      <td>Teynampet</td>\n",
       "      <td>Shared Room</td>\n",
       "      <td>1000</td>\n",
       "      <td>1.000000</td>\n",
       "      <td>2.0</td>\n",
       "      <td>1.0</td>\n",
       "      <td>1.000000</td>\n",
       "      <td>May 5, 2022</td>\n",
       "    </tr>\n",
       "    <tr>\n",
       "      <th>4</th>\n",
       "      <td>IND141</td>\n",
       "      <td>Hyderabad</td>\n",
       "      <td>Jubilee Hills</td>\n",
       "      <td>Entire Home/Apartment</td>\n",
       "      <td>3800</td>\n",
       "      <td>3.000000</td>\n",
       "      <td>3.0</td>\n",
       "      <td>3.0</td>\n",
       "      <td>5.000000</td>\n",
       "      <td>2022-08-20 14:00</td>\n",
       "    </tr>\n",
       "  </tbody>\n",
       "</table>\n",
       "</div>"
      ],
      "text/plain": [
       "       ID       City      Location                   PType   PPN    Nights  \\\n",
       "0  IND137     Mumbai        Unknown  Entire Home/Apartment  3200  2.000000   \n",
       "1  IND138  Bangalore    Indiranagar           Private Room  1800  1.959184   \n",
       "2  IND139      Delhi      Hauz Khas  Entire Home/Apartment  4200  3.000000   \n",
       "3  IND140    Chennai      Teynampet            Shared Room  1000  1.000000   \n",
       "4  IND141  Hyderabad  Jubilee Hills  Entire Home/Apartment  3800  3.000000   \n",
       "\n",
       "   Beds  Baths   Reviews            Recent  \n",
       "0   1.0    1.0  4.000000        2022-03-12  \n",
       "1   1.0    1.0  2.000000         15-Feb-23  \n",
       "2   2.0    2.0  3.853659        2021/12/25  \n",
       "3   2.0    1.0  1.000000       May 5, 2022  \n",
       "4   3.0    3.0  5.000000  2022-08-20 14:00  "
      ]
     },
     "execution_count": 63,
     "metadata": {},
     "output_type": "execute_result"
    }
   ],
   "source": [
    "df['PPN'] = df.PPN.replace(\n",
    "    {\n",
    "    '₹' : '',\n",
    "    ',' : '',\n",
    "    'One Thousand Five Hundred' : 1500,\n",
    "    'Two Thousand' : 2000,\n",
    "    'Eight Hundred' : 800,\n",
    "\n",
    "    },\n",
    "regex = True\n",
    ").astype(int)\n",
    "df.head()"
   ]
  },
  {
   "cell_type": "code",
   "execution_count": 64,
   "metadata": {},
   "outputs": [
    {
     "data": {
      "text/html": [
       "<div>\n",
       "<style scoped>\n",
       "    .dataframe tbody tr th:only-of-type {\n",
       "        vertical-align: middle;\n",
       "    }\n",
       "\n",
       "    .dataframe tbody tr th {\n",
       "        vertical-align: top;\n",
       "    }\n",
       "\n",
       "    .dataframe thead th {\n",
       "        text-align: right;\n",
       "    }\n",
       "</style>\n",
       "<table border=\"1\" class=\"dataframe\">\n",
       "  <thead>\n",
       "    <tr style=\"text-align: right;\">\n",
       "      <th></th>\n",
       "      <th>ID</th>\n",
       "      <th>City</th>\n",
       "      <th>Location</th>\n",
       "      <th>PType</th>\n",
       "      <th>PPN</th>\n",
       "      <th>Nights</th>\n",
       "      <th>Beds</th>\n",
       "      <th>Baths</th>\n",
       "      <th>Reviews</th>\n",
       "      <th>Recent</th>\n",
       "    </tr>\n",
       "  </thead>\n",
       "  <tbody>\n",
       "    <tr>\n",
       "      <th>0</th>\n",
       "      <td>IND137</td>\n",
       "      <td>Mumbai</td>\n",
       "      <td>Unknown</td>\n",
       "      <td>Entire Home/Apartment</td>\n",
       "      <td>3200</td>\n",
       "      <td>2.000000</td>\n",
       "      <td>1.0</td>\n",
       "      <td>1.0</td>\n",
       "      <td>4.000000</td>\n",
       "      <td>2022-03-12</td>\n",
       "    </tr>\n",
       "    <tr>\n",
       "      <th>1</th>\n",
       "      <td>IND138</td>\n",
       "      <td>Bangalore</td>\n",
       "      <td>Indiranagar</td>\n",
       "      <td>Private Room</td>\n",
       "      <td>1800</td>\n",
       "      <td>1.959184</td>\n",
       "      <td>1.0</td>\n",
       "      <td>1.0</td>\n",
       "      <td>2.000000</td>\n",
       "      <td>2023-02-15</td>\n",
       "    </tr>\n",
       "    <tr>\n",
       "      <th>2</th>\n",
       "      <td>IND139</td>\n",
       "      <td>Delhi</td>\n",
       "      <td>Hauz Khas</td>\n",
       "      <td>Entire Home/Apartment</td>\n",
       "      <td>4200</td>\n",
       "      <td>3.000000</td>\n",
       "      <td>2.0</td>\n",
       "      <td>2.0</td>\n",
       "      <td>3.853659</td>\n",
       "      <td>2021-12-25</td>\n",
       "    </tr>\n",
       "    <tr>\n",
       "      <th>3</th>\n",
       "      <td>IND140</td>\n",
       "      <td>Chennai</td>\n",
       "      <td>Teynampet</td>\n",
       "      <td>Shared Room</td>\n",
       "      <td>1000</td>\n",
       "      <td>1.000000</td>\n",
       "      <td>2.0</td>\n",
       "      <td>1.0</td>\n",
       "      <td>1.000000</td>\n",
       "      <td>2022-05-05</td>\n",
       "    </tr>\n",
       "    <tr>\n",
       "      <th>4</th>\n",
       "      <td>IND141</td>\n",
       "      <td>Hyderabad</td>\n",
       "      <td>Jubilee Hills</td>\n",
       "      <td>Entire Home/Apartment</td>\n",
       "      <td>3800</td>\n",
       "      <td>3.000000</td>\n",
       "      <td>3.0</td>\n",
       "      <td>3.0</td>\n",
       "      <td>5.000000</td>\n",
       "      <td>2022-08-20</td>\n",
       "    </tr>\n",
       "  </tbody>\n",
       "</table>\n",
       "</div>"
      ],
      "text/plain": [
       "       ID       City      Location                   PType   PPN    Nights  \\\n",
       "0  IND137     Mumbai        Unknown  Entire Home/Apartment  3200  2.000000   \n",
       "1  IND138  Bangalore    Indiranagar           Private Room  1800  1.959184   \n",
       "2  IND139      Delhi      Hauz Khas  Entire Home/Apartment  4200  3.000000   \n",
       "3  IND140    Chennai      Teynampet            Shared Room  1000  1.000000   \n",
       "4  IND141  Hyderabad  Jubilee Hills  Entire Home/Apartment  3800  3.000000   \n",
       "\n",
       "   Beds  Baths   Reviews      Recent  \n",
       "0   1.0    1.0  4.000000  2022-03-12  \n",
       "1   1.0    1.0  2.000000  2023-02-15  \n",
       "2   2.0    2.0  3.853659  2021-12-25  \n",
       "3   2.0    1.0  1.000000  2022-05-05  \n",
       "4   3.0    3.0  5.000000  2022-08-20  "
      ]
     },
     "execution_count": 64,
     "metadata": {},
     "output_type": "execute_result"
    }
   ],
   "source": [
    "from dateutil import parser\n",
    "def format_date(date_str):\n",
    "        return pd.to_datetime(parser.parse(str(date_str))).strftime('%Y-%m-%d')\n",
    " \n",
    "df['Recent'] = df['Recent'].apply(format_date)\n",
    "df.head()"
   ]
  },
  {
   "cell_type": "code",
   "execution_count": 65,
   "metadata": {},
   "outputs": [],
   "source": [
    "df.to_csv('cleaned_data.csv', index=False)"
   ]
  },
  {
   "cell_type": "code",
   "execution_count": 68,
   "metadata": {},
   "outputs": [
    {
     "name": "stdout",
     "output_type": "stream",
     "text": [
      "Defaulting to user installation because normal site-packages is not writeable\n",
      "Collecting openpyxl\n",
      "  Downloading openpyxl-3.1.5-py2.py3-none-any.whl (250 kB)\n",
      "\u001b[2K     \u001b[90m━━━━━━━━━━━━━━━━━━━━━━━━━━━━━━━━━━━━━━━\u001b[0m \u001b[32m250.9/250.9 KB\u001b[0m \u001b[31m1.4 MB/s\u001b[0m eta \u001b[36m0:00:00\u001b[0ma \u001b[36m0:00:01\u001b[0m\n",
      "\u001b[?25hCollecting et-xmlfile\n",
      "  Downloading et_xmlfile-2.0.0-py3-none-any.whl (18 kB)\n",
      "Installing collected packages: et-xmlfile, openpyxl\n",
      "Successfully installed et-xmlfile-2.0.0 openpyxl-3.1.5\n",
      "Note: you may need to restart the kernel to use updated packages.\n"
     ]
    }
   ],
   "source": [
    "pip install openpyxl\n"
   ]
  },
  {
   "cell_type": "code",
   "execution_count": 69,
   "metadata": {},
   "outputs": [],
   "source": [
    "df_csv = pd.read_csv('cleaned_data.csv')\n",
    "df_csv.to_excel('cleaned_data.xlsx', index=False, engine='openpyxl')"
   ]
  }
 ],
 "metadata": {
  "kernelspec": {
   "display_name": "Python 3",
   "language": "python",
   "name": "python3"
  },
  "language_info": {
   "codemirror_mode": {
    "name": "ipython",
    "version": 3
   },
   "file_extension": ".py",
   "mimetype": "text/x-python",
   "name": "python",
   "nbconvert_exporter": "python",
   "pygments_lexer": "ipython3",
   "version": "3.10.12"
  }
 },
 "nbformat": 4,
 "nbformat_minor": 2
}
