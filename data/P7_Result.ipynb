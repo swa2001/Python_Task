{
 "cells": [
  {
   "cell_type": "markdown",
   "metadata": {},
   "source": [
    "## P7> Write a Python script that takes a city name as its command line argument"
   ]
  },
  {
   "cell_type": "code",
   "execution_count": 1,
   "metadata": {},
   "outputs": [
    {
     "name": "stdout",
     "output_type": "stream",
     "text": [
      "\n",
      "City: Mumbai\n",
      "Best type of Room based on Reviews: Entire Home/Apartment\n",
      "Cheapest Room: Type - Shared Room, Location - Ghatkopar, Price - 700\n",
      "Costliest Room: Type - Entire Home/Apartment, Location - Santacruz, Price - 7000\n",
      "Average Price Per Night: 3966.67\n"
     ]
    }
   ],
   "source": [
    "! python3 P7.py \"Mumbai\""
   ]
  }
 ],
 "metadata": {
  "kernelspec": {
   "display_name": "Python 3",
   "language": "python",
   "name": "python3"
  },
  "language_info": {
   "codemirror_mode": {
    "name": "ipython",
    "version": 3
   },
   "file_extension": ".py",
   "mimetype": "text/x-python",
   "name": "python",
   "nbconvert_exporter": "python",
   "pygments_lexer": "ipython3",
   "version": "3.10.12"
  }
 },
 "nbformat": 4,
 "nbformat_minor": 2
}
