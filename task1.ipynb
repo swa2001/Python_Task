{
 "cells": [
  {
   "cell_type": "code",
   "execution_count": 14,
   "metadata": {},
   "outputs": [
    {
     "name": "stdout",
     "output_type": "stream",
     "text": [
      "Sales data has been updated and saved in 'sales_updated.csv'.\n"
     ]
    }
   ],
   "source": [
    "import csv\n",
    "import math\n",
    "# Open the original CSV file for reading\n",
    "with open('/home/nineleaps/Python_training/data/Sales_24.csv', mode='r', newline='') as infile:\n",
    "    reader = csv.DictReader(infile)\n",
    "    # Get the fieldnames (column headers) from the original file\n",
    "    fieldnames = reader.fieldnames\n",
    "    # Open a new CSV file to write the updated data\n",
    "    with open('sales_updated.csv', mode='w', newline='') as outfile:\n",
    "        writer = csv.DictWriter(outfile, fieldnames=fieldnames)\n",
    "        # Write the header to the new file\n",
    "        writer.writeheader()\n",
    "        # Iterate through each row in the original CSV\n",
    "        for row in reader:\n",
    "            # Check if 'Amount' exists and is a valid number, otherwise leave it as is\n",
    "            if row['Amount']:\n",
    "                try:\n",
    "                    # Round down the value in the 'Amount' column to the nearest integer\n",
    "                    row['Amount'] = math.floor(float(row['Amount']))\n",
    "                except ValueError:\n",
    "                    pass  # If conversion fails, skip modification\n",
    "            # Write the modified row to the new file\n",
    "            writer.writerow(row)\n",
    "print(\"Sales data has been updated and saved in 'sales_updated.csv'.\")"
   ]
  },
  {
   "cell_type": "code",
   "execution_count": null,
   "metadata": {},
   "outputs": [],
   "source": []
  }
 ],
 "metadata": {
  "kernelspec": {
   "display_name": "Python 3",
   "language": "python",
   "name": "python3"
  },
  "language_info": {
   "codemirror_mode": {
    "name": "ipython",
    "version": 3
   },
   "file_extension": ".py",
   "mimetype": "text/x-python",
   "name": "python",
   "nbconvert_exporter": "python",
   "pygments_lexer": "ipython3",
   "version": "3.10.12"
  }
 },
 "nbformat": 4,
 "nbformat_minor": 2
}
