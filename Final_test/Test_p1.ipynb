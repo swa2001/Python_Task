{
 "cells": [
  {
   "cell_type": "markdown",
   "metadata": {},
   "source": [
    "P1> Calculate ROI ( Return on Investment ) for each movie\n",
    "\tROI is calculated as : Profit / Budget\n",
    "\tProfit is calculated as : BoxOffice Collections - Budget\n",
    "\tWhich are the top 3 movies with highest ROI across all industries?\n",
    "\tWhich are the top 3 Hindi movies with highest ROI?\n",
    "\tWhich are the top 3 Telugu movies with highest ROI?\n",
    "\tPlot all this information in separate graphs\n"
   ]
  },
  {
   "cell_type": "code",
   "execution_count": 2,
   "metadata": {},
   "outputs": [],
   "source": [
    "import pandas as pd\n",
    "\n",
    "\n",
    "bollywood_df = pd.read_excel(\"bollywood.xlsx\")\n",
    "tollywood_df = pd.read_excel(\"tollywood.xlsx\")\n",
    "indian_movies_df = pd.read_excel(\"indian.xlsx\")\n",
    "\n",
    "\n"
   ]
  },
  {
   "cell_type": "code",
   "execution_count": 4,
   "metadata": {},
   "outputs": [
    {
     "data": {
      "text/html": [
       "<div>\n",
       "<style scoped>\n",
       "    .dataframe tbody tr th:only-of-type {\n",
       "        vertical-align: middle;\n",
       "    }\n",
       "\n",
       "    .dataframe tbody tr th {\n",
       "        vertical-align: top;\n",
       "    }\n",
       "\n",
       "    .dataframe thead th {\n",
       "        text-align: right;\n",
       "    }\n",
       "</style>\n",
       "<table border=\"1\" class=\"dataframe\">\n",
       "  <thead>\n",
       "    <tr style=\"text-align: right;\">\n",
       "      <th></th>\n",
       "      <th>index</th>\n",
       "      <th>MovieID</th>\n",
       "      <th>Title</th>\n",
       "      <th>Director</th>\n",
       "      <th>Genre</th>\n",
       "      <th>ReleaseYear</th>\n",
       "      <th>Budget (Crores)</th>\n",
       "      <th>BoxOffice (Crores)</th>\n",
       "      <th>Rating</th>\n",
       "      <th>Duration (minutes)</th>\n",
       "      <th>LeadActor</th>\n",
       "      <th>LeadActress</th>\n",
       "      <th>Language</th>\n",
       "      <th>ProductionCompany</th>\n",
       "    </tr>\n",
       "  </thead>\n",
       "  <tbody>\n",
       "    <tr>\n",
       "      <th>0</th>\n",
       "      <td>0</td>\n",
       "      <td>MOV001</td>\n",
       "      <td>Lagaan</td>\n",
       "      <td>Ashutosh Gowariker</td>\n",
       "      <td>Sports Drama</td>\n",
       "      <td>2001</td>\n",
       "      <td>91.511628</td>\n",
       "      <td>100</td>\n",
       "      <td>8.1</td>\n",
       "      <td>224</td>\n",
       "      <td>Aamir Khan</td>\n",
       "      <td>Gracy Singh</td>\n",
       "      <td>Hindi</td>\n",
       "      <td>Aamir Khan Productions</td>\n",
       "    </tr>\n",
       "    <tr>\n",
       "      <th>1</th>\n",
       "      <td>1</td>\n",
       "      <td>MOV002</td>\n",
       "      <td>Kabhi Khushi Kabhie Gham...</td>\n",
       "      <td>Karan Johar</td>\n",
       "      <td>Family Drama</td>\n",
       "      <td>2001</td>\n",
       "      <td>50.000000</td>\n",
       "      <td>100</td>\n",
       "      <td>7.9</td>\n",
       "      <td>210</td>\n",
       "      <td>Shah Rukh Khan</td>\n",
       "      <td>Kajol</td>\n",
       "      <td>Hindi</td>\n",
       "      <td>Dharma Productions</td>\n",
       "    </tr>\n",
       "    <tr>\n",
       "      <th>2</th>\n",
       "      <td>2</td>\n",
       "      <td>MOV003</td>\n",
       "      <td>M.S. Dhoni: The Untold Story</td>\n",
       "      <td>Neeraj Pandey</td>\n",
       "      <td>Biographical Sports Drama</td>\n",
       "      <td>2016</td>\n",
       "      <td>91.511628</td>\n",
       "      <td>215</td>\n",
       "      <td>7.9</td>\n",
       "      <td>184</td>\n",
       "      <td>Sushant Singh Rajput</td>\n",
       "      <td>Kiara Advani</td>\n",
       "      <td>Hindi</td>\n",
       "      <td>Fox Star Studios</td>\n",
       "    </tr>\n",
       "    <tr>\n",
       "      <th>3</th>\n",
       "      <td>3</td>\n",
       "      <td>MOV004</td>\n",
       "      <td>Baahubali 2: The Conclusion</td>\n",
       "      <td>S. S. Rajamouli</td>\n",
       "      <td>Epic Fantasy Action</td>\n",
       "      <td>2017</td>\n",
       "      <td>250.000000</td>\n",
       "      <td>1810</td>\n",
       "      <td>8.2</td>\n",
       "      <td>171</td>\n",
       "      <td>Prabhas</td>\n",
       "      <td>Anushka Shetty</td>\n",
       "      <td>Telugu</td>\n",
       "      <td>Arka Media Works</td>\n",
       "    </tr>\n",
       "    <tr>\n",
       "      <th>4</th>\n",
       "      <td>4</td>\n",
       "      <td>MOV005</td>\n",
       "      <td>Chennai Express</td>\n",
       "      <td>Rohit Shetty</td>\n",
       "      <td>Action Comedy</td>\n",
       "      <td>2013</td>\n",
       "      <td>91.511628</td>\n",
       "      <td>423</td>\n",
       "      <td>6.4</td>\n",
       "      <td>141</td>\n",
       "      <td>Shah Rukh Khan</td>\n",
       "      <td>Deepika Padukone</td>\n",
       "      <td>Hindi</td>\n",
       "      <td>Red Chillies Entertainment</td>\n",
       "    </tr>\n",
       "  </tbody>\n",
       "</table>\n",
       "</div>"
      ],
      "text/plain": [
       "   index MovieID                         Title            Director  \\\n",
       "0      0  MOV001                        Lagaan  Ashutosh Gowariker   \n",
       "1      1  MOV002   Kabhi Khushi Kabhie Gham...         Karan Johar   \n",
       "2      2  MOV003  M.S. Dhoni: The Untold Story       Neeraj Pandey   \n",
       "3      3  MOV004   Baahubali 2: The Conclusion     S. S. Rajamouli   \n",
       "4      4  MOV005               Chennai Express        Rohit Shetty   \n",
       "\n",
       "                       Genre  ReleaseYear  Budget (Crores)  \\\n",
       "0               Sports Drama         2001        91.511628   \n",
       "1               Family Drama         2001        50.000000   \n",
       "2  Biographical Sports Drama         2016        91.511628   \n",
       "3        Epic Fantasy Action         2017       250.000000   \n",
       "4              Action Comedy         2013        91.511628   \n",
       "\n",
       "   BoxOffice (Crores)  Rating  Duration (minutes)             LeadActor  \\\n",
       "0                 100     8.1                 224            Aamir Khan   \n",
       "1                 100     7.9                 210        Shah Rukh Khan   \n",
       "2                 215     7.9                 184  Sushant Singh Rajput   \n",
       "3                1810     8.2                 171               Prabhas   \n",
       "4                 423     6.4                 141        Shah Rukh Khan   \n",
       "\n",
       "        LeadActress Language           ProductionCompany  \n",
       "0       Gracy Singh    Hindi      Aamir Khan Productions  \n",
       "1             Kajol    Hindi          Dharma Productions  \n",
       "2      Kiara Advani    Hindi            Fox Star Studios  \n",
       "3    Anushka Shetty   Telugu            Arka Media Works  \n",
       "4  Deepika Padukone    Hindi  Red Chillies Entertainment  "
      ]
     },
     "execution_count": 4,
     "metadata": {},
     "output_type": "execute_result"
    }
   ],
   "source": [
    "bollywood_df.head()"
   ]
  },
  {
   "cell_type": "code",
   "execution_count": 6,
   "metadata": {},
   "outputs": [
    {
     "data": {
      "text/html": [
       "<div>\n",
       "<style scoped>\n",
       "    .dataframe tbody tr th:only-of-type {\n",
       "        vertical-align: middle;\n",
       "    }\n",
       "\n",
       "    .dataframe tbody tr th {\n",
       "        vertical-align: top;\n",
       "    }\n",
       "\n",
       "    .dataframe thead th {\n",
       "        text-align: right;\n",
       "    }\n",
       "</style>\n",
       "<table border=\"1\" class=\"dataframe\">\n",
       "  <thead>\n",
       "    <tr style=\"text-align: right;\">\n",
       "      <th></th>\n",
       "      <th>index</th>\n",
       "      <th>MovieID</th>\n",
       "      <th>Title</th>\n",
       "      <th>Director</th>\n",
       "      <th>Genre</th>\n",
       "      <th>ReleaseYear</th>\n",
       "      <th>Budget (Crores)</th>\n",
       "      <th>BoxOffice (Crores)</th>\n",
       "      <th>Rating</th>\n",
       "      <th>Duration (minutes)</th>\n",
       "      <th>LeadActor</th>\n",
       "      <th>LeadActress</th>\n",
       "      <th>Language</th>\n",
       "      <th>ProductionCompany</th>\n",
       "    </tr>\n",
       "  </thead>\n",
       "  <tbody>\n",
       "    <tr>\n",
       "      <th>0</th>\n",
       "      <td>0</td>\n",
       "      <td>MOV004</td>\n",
       "      <td>Baahubali 2: The Conclusion</td>\n",
       "      <td>S. S. Rajamouli</td>\n",
       "      <td>Epic Fantasy Action</td>\n",
       "      <td>2017</td>\n",
       "      <td>250</td>\n",
       "      <td>1810</td>\n",
       "      <td>8.2</td>\n",
       "      <td>171</td>\n",
       "      <td>Prabhas</td>\n",
       "      <td>Anushka Shetty</td>\n",
       "      <td>Telugu</td>\n",
       "      <td>Arka Media Works</td>\n",
       "    </tr>\n",
       "    <tr>\n",
       "      <th>1</th>\n",
       "      <td>1</td>\n",
       "      <td>MOV021</td>\n",
       "      <td>Bahubali: The Beginning</td>\n",
       "      <td>S. S. Rajamouli</td>\n",
       "      <td>Epic Fantasy Action</td>\n",
       "      <td>2015</td>\n",
       "      <td>180</td>\n",
       "      <td>650</td>\n",
       "      <td>8.1</td>\n",
       "      <td>159</td>\n",
       "      <td>Prabhas</td>\n",
       "      <td>Tamannaah</td>\n",
       "      <td>Telugu</td>\n",
       "      <td>Arka Media Works</td>\n",
       "    </tr>\n",
       "    <tr>\n",
       "      <th>2</th>\n",
       "      <td>2</td>\n",
       "      <td>MOV023</td>\n",
       "      <td>Sye Raa Narasimha Reddy</td>\n",
       "      <td>Surender Reddy</td>\n",
       "      <td>Historical Action</td>\n",
       "      <td>2019</td>\n",
       "      <td>200</td>\n",
       "      <td>265</td>\n",
       "      <td>7.1</td>\n",
       "      <td>167</td>\n",
       "      <td>Chiranjeevi</td>\n",
       "      <td>Nayanthara</td>\n",
       "      <td>Telugu</td>\n",
       "      <td>Konidela Production Company</td>\n",
       "    </tr>\n",
       "    <tr>\n",
       "      <th>3</th>\n",
       "      <td>3</td>\n",
       "      <td>MOV025</td>\n",
       "      <td>Jersey</td>\n",
       "      <td>Gowtam Tinnanuri</td>\n",
       "      <td>Sports Drama</td>\n",
       "      <td>2019</td>\n",
       "      <td>20</td>\n",
       "      <td>45</td>\n",
       "      <td>7.8</td>\n",
       "      <td>128</td>\n",
       "      <td>Nani</td>\n",
       "      <td>Shraddha Srinath</td>\n",
       "      <td>Telugu</td>\n",
       "      <td>Sithara Entertainments</td>\n",
       "    </tr>\n",
       "    <tr>\n",
       "      <th>4</th>\n",
       "      <td>4</td>\n",
       "      <td>MOV027</td>\n",
       "      <td>Geetha Govindam</td>\n",
       "      <td>Parasuram</td>\n",
       "      <td>Romantic Comedy</td>\n",
       "      <td>2018</td>\n",
       "      <td>10</td>\n",
       "      <td>130</td>\n",
       "      <td>7.4</td>\n",
       "      <td>148</td>\n",
       "      <td>Vijay Deverakonda</td>\n",
       "      <td>Rashmika Mandanna</td>\n",
       "      <td>Telugu</td>\n",
       "      <td>GA2 Pictures</td>\n",
       "    </tr>\n",
       "  </tbody>\n",
       "</table>\n",
       "</div>"
      ],
      "text/plain": [
       "   index MovieID                        Title          Director  \\\n",
       "0      0  MOV004  Baahubali 2: The Conclusion   S. S. Rajamouli   \n",
       "1      1  MOV021      Bahubali: The Beginning   S. S. Rajamouli   \n",
       "2      2  MOV023      Sye Raa Narasimha Reddy    Surender Reddy   \n",
       "3      3  MOV025                       Jersey  Gowtam Tinnanuri   \n",
       "4      4  MOV027              Geetha Govindam         Parasuram   \n",
       "\n",
       "                 Genre  ReleaseYear  Budget (Crores)  BoxOffice (Crores)  \\\n",
       "0  Epic Fantasy Action         2017              250                1810   \n",
       "1  Epic Fantasy Action         2015              180                 650   \n",
       "2    Historical Action         2019              200                 265   \n",
       "3         Sports Drama         2019               20                  45   \n",
       "4      Romantic Comedy         2018               10                 130   \n",
       "\n",
       "   Rating  Duration (minutes)          LeadActor        LeadActress Language  \\\n",
       "0     8.2                 171            Prabhas     Anushka Shetty   Telugu   \n",
       "1     8.1                 159            Prabhas          Tamannaah   Telugu   \n",
       "2     7.1                 167        Chiranjeevi         Nayanthara   Telugu   \n",
       "3     7.8                 128               Nani   Shraddha Srinath   Telugu   \n",
       "4     7.4                 148  Vijay Deverakonda  Rashmika Mandanna   Telugu   \n",
       "\n",
       "             ProductionCompany  \n",
       "0             Arka Media Works  \n",
       "1             Arka Media Works  \n",
       "2  Konidela Production Company  \n",
       "3       Sithara Entertainments  \n",
       "4                 GA2 Pictures  "
      ]
     },
     "execution_count": 6,
     "metadata": {},
     "output_type": "execute_result"
    }
   ],
   "source": [
    "tollywood_df.head()"
   ]
  },
  {
   "cell_type": "code",
   "execution_count": 7,
   "metadata": {},
   "outputs": [
    {
     "data": {
      "text/html": [
       "<div>\n",
       "<style scoped>\n",
       "    .dataframe tbody tr th:only-of-type {\n",
       "        vertical-align: middle;\n",
       "    }\n",
       "\n",
       "    .dataframe tbody tr th {\n",
       "        vertical-align: top;\n",
       "    }\n",
       "\n",
       "    .dataframe thead th {\n",
       "        text-align: right;\n",
       "    }\n",
       "</style>\n",
       "<table border=\"1\" class=\"dataframe\">\n",
       "  <thead>\n",
       "    <tr style=\"text-align: right;\">\n",
       "      <th></th>\n",
       "      <th>index</th>\n",
       "      <th>MovieID</th>\n",
       "      <th>Title</th>\n",
       "      <th>Director</th>\n",
       "      <th>Genre</th>\n",
       "      <th>ReleaseYear</th>\n",
       "      <th>Budget (Crores)</th>\n",
       "      <th>BoxOffice (Crores)</th>\n",
       "      <th>Rating</th>\n",
       "      <th>Duration (minutes)</th>\n",
       "      <th>LeadActor</th>\n",
       "      <th>LeadActress</th>\n",
       "      <th>Language</th>\n",
       "      <th>ProductionCompany</th>\n",
       "    </tr>\n",
       "  </thead>\n",
       "  <tbody>\n",
       "    <tr>\n",
       "      <th>0</th>\n",
       "      <td>7</td>\n",
       "      <td>MOV008</td>\n",
       "      <td>Sarkar (Tamil)</td>\n",
       "      <td>A. R. Murugadoss</td>\n",
       "      <td>Action Thriller</td>\n",
       "      <td>2005</td>\n",
       "      <td>25</td>\n",
       "      <td>47.5</td>\n",
       "      <td>7.5</td>\n",
       "      <td>173</td>\n",
       "      <td>Vijay</td>\n",
       "      <td>Keerthy Suresh</td>\n",
       "      <td>Tamil</td>\n",
       "      <td>Kalaignar TV</td>\n",
       "    </tr>\n",
       "    <tr>\n",
       "      <th>1</th>\n",
       "      <td>9</td>\n",
       "      <td>MOV010</td>\n",
       "      <td>2.0 (Tamil)</td>\n",
       "      <td>S. Shankar</td>\n",
       "      <td>Science Fiction Action</td>\n",
       "      <td>2018</td>\n",
       "      <td>550</td>\n",
       "      <td>800.0</td>\n",
       "      <td>6.9</td>\n",
       "      <td>147</td>\n",
       "      <td>Rajinikanth</td>\n",
       "      <td>Amy Jackson</td>\n",
       "      <td>Tamil</td>\n",
       "      <td>Lyca Productions</td>\n",
       "    </tr>\n",
       "    <tr>\n",
       "      <th>2</th>\n",
       "      <td>21</td>\n",
       "      <td>MOV022</td>\n",
       "      <td>K.G.F: Chapter 1</td>\n",
       "      <td>Prashanth Neel</td>\n",
       "      <td>Action Drama</td>\n",
       "      <td>2018</td>\n",
       "      <td>50</td>\n",
       "      <td>250.0</td>\n",
       "      <td>7.9</td>\n",
       "      <td>156</td>\n",
       "      <td>Yash</td>\n",
       "      <td>Srinidhi Shetty</td>\n",
       "      <td>Kannada</td>\n",
       "      <td>Hombale Films</td>\n",
       "    </tr>\n",
       "    <tr>\n",
       "      <th>3</th>\n",
       "      <td>23</td>\n",
       "      <td>MOV024</td>\n",
       "      <td>Avengers: Endgame (Dubbed)</td>\n",
       "      <td>Anthony Russo, Joseph Russo</td>\n",
       "      <td>Superhero</td>\n",
       "      <td>2019</td>\n",
       "      <td>25</td>\n",
       "      <td>47.5</td>\n",
       "      <td>8.4</td>\n",
       "      <td>181</td>\n",
       "      <td>Robert Downey Jr.</td>\n",
       "      <td>Scarlett Johansson</td>\n",
       "      <td>English (Dubbed in Telugu, Kannada, Hindi)</td>\n",
       "      <td>Marvel Studios</td>\n",
       "    </tr>\n",
       "    <tr>\n",
       "      <th>4</th>\n",
       "      <td>25</td>\n",
       "      <td>MOV026</td>\n",
       "      <td>Pailwaan</td>\n",
       "      <td>S. Krishna</td>\n",
       "      <td>Sports Action</td>\n",
       "      <td>2019</td>\n",
       "      <td>30</td>\n",
       "      <td>55.0</td>\n",
       "      <td>6.8</td>\n",
       "      <td>166</td>\n",
       "      <td>Sudeep</td>\n",
       "      <td>Aakanksha Singh</td>\n",
       "      <td>Kannada</td>\n",
       "      <td>RRR Motion Pictures</td>\n",
       "    </tr>\n",
       "  </tbody>\n",
       "</table>\n",
       "</div>"
      ],
      "text/plain": [
       "   index MovieID                       Title                     Director  \\\n",
       "0      7  MOV008              Sarkar (Tamil)             A. R. Murugadoss   \n",
       "1      9  MOV010                 2.0 (Tamil)                   S. Shankar   \n",
       "2     21  MOV022            K.G.F: Chapter 1               Prashanth Neel   \n",
       "3     23  MOV024  Avengers: Endgame (Dubbed)  Anthony Russo, Joseph Russo   \n",
       "4     25  MOV026                    Pailwaan                   S. Krishna   \n",
       "\n",
       "                    Genre  ReleaseYear  Budget (Crores)  BoxOffice (Crores)  \\\n",
       "0         Action Thriller         2005               25                47.5   \n",
       "1  Science Fiction Action         2018              550               800.0   \n",
       "2            Action Drama         2018               50               250.0   \n",
       "3               Superhero         2019               25                47.5   \n",
       "4           Sports Action         2019               30                55.0   \n",
       "\n",
       "   Rating  Duration (minutes)          LeadActor         LeadActress  \\\n",
       "0     7.5                 173              Vijay      Keerthy Suresh   \n",
       "1     6.9                 147        Rajinikanth         Amy Jackson   \n",
       "2     7.9                 156               Yash     Srinidhi Shetty   \n",
       "3     8.4                 181  Robert Downey Jr.  Scarlett Johansson   \n",
       "4     6.8                 166             Sudeep     Aakanksha Singh   \n",
       "\n",
       "                                     Language    ProductionCompany  \n",
       "0                                       Tamil         Kalaignar TV  \n",
       "1                                       Tamil     Lyca Productions  \n",
       "2                                     Kannada        Hombale Films  \n",
       "3  English (Dubbed in Telugu, Kannada, Hindi)       Marvel Studios  \n",
       "4                                     Kannada  RRR Motion Pictures  "
      ]
     },
     "execution_count": 7,
     "metadata": {},
     "output_type": "execute_result"
    }
   ],
   "source": [
    "indian_movies_df.head()"
   ]
  },
  {
   "cell_type": "code",
   "execution_count": 9,
   "metadata": {},
   "outputs": [
    {
     "name": "stdout",
     "output_type": "stream",
     "text": [
      "   index MovieID                         Title            Director  \\\n",
      "0      0  MOV001                        Lagaan  Ashutosh Gowariker   \n",
      "1      1  MOV002   Kabhi Khushi Kabhie Gham...         Karan Johar   \n",
      "2      2  MOV003  M.S. Dhoni: The Untold Story       Neeraj Pandey   \n",
      "3      3  MOV004   Baahubali 2: The Conclusion     S. S. Rajamouli   \n",
      "4      4  MOV005               Chennai Express        Rohit Shetty   \n",
      "\n",
      "                       Genre  ReleaseYear  Budget (Crores)  \\\n",
      "0               Sports Drama         2001        91.511628   \n",
      "1               Family Drama         2001        50.000000   \n",
      "2  Biographical Sports Drama         2016        91.511628   \n",
      "3        Epic Fantasy Action         2017       250.000000   \n",
      "4              Action Comedy         2013        91.511628   \n",
      "\n",
      "   BoxOffice (Crores)  Rating  Duration (minutes)             LeadActor  \\\n",
      "0               100.0     8.1                 224            Aamir Khan   \n",
      "1               100.0     7.9                 210        Shah Rukh Khan   \n",
      "2               215.0     7.9                 184  Sushant Singh Rajput   \n",
      "3              1810.0     8.2                 171               Prabhas   \n",
      "4               423.0     6.4                 141        Shah Rukh Khan   \n",
      "\n",
      "        LeadActress Language           ProductionCompany  \n",
      "0       Gracy Singh    Hindi      Aamir Khan Productions  \n",
      "1             Kajol    Hindi          Dharma Productions  \n",
      "2      Kiara Advani    Hindi            Fox Star Studios  \n",
      "3    Anushka Shetty   Telugu            Arka Media Works  \n",
      "4  Deepika Padukone    Hindi  Red Chillies Entertainment  \n"
     ]
    }
   ],
   "source": [
    "# Combining all datasets into one\n",
    "movies_df = pd.concat([bollywood_df, tollywood_df, indian_movies_df], ignore_index=True)\n",
    "\n",
    "print(movies_df.head())"
   ]
  },
  {
   "cell_type": "markdown",
   "metadata": {},
   "source": [
    "1: Calculate ROI for Each Movie\n"
   ]
  },
  {
   "cell_type": "code",
   "execution_count": 10,
   "metadata": {},
   "outputs": [],
   "source": [
    "movies_df[\"Profit\"] = movies_df[\"BoxOffice (Crores)\"] - movies_df[\"Budget (Crores)\"]\n"
   ]
  },
  {
   "cell_type": "code",
   "execution_count": 11,
   "metadata": {},
   "outputs": [],
   "source": [
    "movies_df[\"ROI\"] = movies_df[\"Profit\"] / movies_df[\"Budget (Crores)\"]"
   ]
  },
  {
   "cell_type": "markdown",
   "metadata": {},
   "source": [
    " Top 3 movies with highest ROI across all industries"
   ]
  },
  {
   "cell_type": "code",
   "execution_count": 13,
   "metadata": {},
   "outputs": [
    {
     "data": {
      "text/html": [
       "<div>\n",
       "<style scoped>\n",
       "    .dataframe tbody tr th:only-of-type {\n",
       "        vertical-align: middle;\n",
       "    }\n",
       "\n",
       "    .dataframe tbody tr th {\n",
       "        vertical-align: top;\n",
       "    }\n",
       "\n",
       "    .dataframe thead th {\n",
       "        text-align: right;\n",
       "    }\n",
       "</style>\n",
       "<table border=\"1\" class=\"dataframe\">\n",
       "  <thead>\n",
       "    <tr style=\"text-align: right;\">\n",
       "      <th></th>\n",
       "      <th>Title</th>\n",
       "      <th>Language</th>\n",
       "      <th>ROI</th>\n",
       "    </tr>\n",
       "  </thead>\n",
       "  <tbody>\n",
       "    <tr>\n",
       "      <th>6</th>\n",
       "      <td>Dangal</td>\n",
       "      <td>Hindi</td>\n",
       "      <td>29.571429</td>\n",
       "    </tr>\n",
       "    <tr>\n",
       "      <th>40</th>\n",
       "      <td>Dilwale Dulhania Le Jayenge</td>\n",
       "      <td>Hindi</td>\n",
       "      <td>14.250000</td>\n",
       "    </tr>\n",
       "    <tr>\n",
       "      <th>44</th>\n",
       "      <td>3 Idiots</td>\n",
       "      <td>Hindi</td>\n",
       "      <td>12.142857</td>\n",
       "    </tr>\n",
       "  </tbody>\n",
       "</table>\n",
       "</div>"
      ],
      "text/plain": [
       "                          Title Language        ROI\n",
       "6                        Dangal    Hindi  29.571429\n",
       "40  Dilwale Dulhania Le Jayenge    Hindi  14.250000\n",
       "44                     3 Idiots    Hindi  12.142857"
      ]
     },
     "execution_count": 13,
     "metadata": {},
     "output_type": "execute_result"
    }
   ],
   "source": [
    "top_3_movies = movies_df.nlargest(3, \"ROI\")[[\"Title\", \"Language\", \"ROI\"]]\n",
    "top_3_movies\n"
   ]
  },
  {
   "cell_type": "markdown",
   "metadata": {},
   "source": [
    "Top 3 Hindi movies with highest ROI"
   ]
  },
  {
   "cell_type": "code",
   "execution_count": 15,
   "metadata": {},
   "outputs": [
    {
     "data": {
      "text/html": [
       "<div>\n",
       "<style scoped>\n",
       "    .dataframe tbody tr th:only-of-type {\n",
       "        vertical-align: middle;\n",
       "    }\n",
       "\n",
       "    .dataframe tbody tr th {\n",
       "        vertical-align: top;\n",
       "    }\n",
       "\n",
       "    .dataframe thead th {\n",
       "        text-align: right;\n",
       "    }\n",
       "</style>\n",
       "<table border=\"1\" class=\"dataframe\">\n",
       "  <thead>\n",
       "    <tr style=\"text-align: right;\">\n",
       "      <th></th>\n",
       "      <th>Title</th>\n",
       "      <th>ROI</th>\n",
       "    </tr>\n",
       "  </thead>\n",
       "  <tbody>\n",
       "    <tr>\n",
       "      <th>6</th>\n",
       "      <td>Dangal</td>\n",
       "      <td>29.571429</td>\n",
       "    </tr>\n",
       "    <tr>\n",
       "      <th>40</th>\n",
       "      <td>Dilwale Dulhania Le Jayenge</td>\n",
       "      <td>14.250000</td>\n",
       "    </tr>\n",
       "    <tr>\n",
       "      <th>44</th>\n",
       "      <td>3 Idiots</td>\n",
       "      <td>12.142857</td>\n",
       "    </tr>\n",
       "  </tbody>\n",
       "</table>\n",
       "</div>"
      ],
      "text/plain": [
       "                          Title        ROI\n",
       "6                        Dangal  29.571429\n",
       "40  Dilwale Dulhania Le Jayenge  14.250000\n",
       "44                     3 Idiots  12.142857"
      ]
     },
     "execution_count": 15,
     "metadata": {},
     "output_type": "execute_result"
    }
   ],
   "source": [
    "top_3_hindi = movies_df[movies_df[\"Language\"] == \"Hindi\"].nlargest(3, \"ROI\")[[\"Title\", \"ROI\"]]\n",
    "top_3_hindi"
   ]
  },
  {
   "cell_type": "markdown",
   "metadata": {},
   "source": [
    "Top 3 Telugu movies with highest ROI"
   ]
  },
  {
   "cell_type": "code",
   "execution_count": 18,
   "metadata": {},
   "outputs": [
    {
     "data": {
      "text/html": [
       "<div>\n",
       "<style scoped>\n",
       "    .dataframe tbody tr th:only-of-type {\n",
       "        vertical-align: middle;\n",
       "    }\n",
       "\n",
       "    .dataframe tbody tr th {\n",
       "        vertical-align: top;\n",
       "    }\n",
       "\n",
       "    .dataframe thead th {\n",
       "        text-align: right;\n",
       "    }\n",
       "</style>\n",
       "<table border=\"1\" class=\"dataframe\">\n",
       "  <thead>\n",
       "    <tr style=\"text-align: right;\">\n",
       "      <th></th>\n",
       "      <th>Title</th>\n",
       "      <th>ROI</th>\n",
       "    </tr>\n",
       "  </thead>\n",
       "  <tbody>\n",
       "    <tr>\n",
       "      <th>26</th>\n",
       "      <td>Geetha Govindam</td>\n",
       "      <td>12.00</td>\n",
       "    </tr>\n",
       "    <tr>\n",
       "      <th>59</th>\n",
       "      <td>Geetha Govindam</td>\n",
       "      <td>12.00</td>\n",
       "    </tr>\n",
       "    <tr>\n",
       "      <th>3</th>\n",
       "      <td>Baahubali 2: The Conclusion</td>\n",
       "      <td>6.24</td>\n",
       "    </tr>\n",
       "  </tbody>\n",
       "</table>\n",
       "</div>"
      ],
      "text/plain": [
       "                          Title    ROI\n",
       "26              Geetha Govindam  12.00\n",
       "59              Geetha Govindam  12.00\n",
       "3   Baahubali 2: The Conclusion   6.24"
      ]
     },
     "execution_count": 18,
     "metadata": {},
     "output_type": "execute_result"
    }
   ],
   "source": [
    "top_3_telugu = movies_df[movies_df[\"Language\"] == \"Telugu\"].nlargest(3, \"ROI\")[[\"Title\", \"ROI\"]]\n",
    "top_3_telugu"
   ]
  },
  {
   "cell_type": "markdown",
   "metadata": {},
   "source": [
    "Plotting the Results"
   ]
  },
  {
   "cell_type": "code",
   "execution_count": 20,
   "metadata": {},
   "outputs": [],
   "source": [
    "import matplotlib.pyplot as plt"
   ]
  },
  {
   "cell_type": "markdown",
   "metadata": {},
   "source": [
    "\n",
    " Plot Top 3 Movies with Highest ROI Across All Industries"
   ]
  },
  {
   "cell_type": "code",
   "execution_count": 25,
   "metadata": {},
   "outputs": [
    {
     "data": {
      "image/png": "[encoded data removed]",
      "text/plain": [
       "<Figure size 800x500 with 1 Axes>"
      ]
     },
     "metadata": {},
     "output_type": "display_data"
    }
   ],
   "source": [
    "\n",
    "plt.figure(figsize=(8, 5))\n",
    "plt.bar(top_3_movies[\"Title\"], top_3_movies[\"ROI\"], color='blue')\n",
    "plt.xlabel(\"Movie Title\")\n",
    "plt.ylabel(\"ROI\")\n",
    "plt.title(\"Top 3 Movies with Highest ROI\")\n",
    "plt.show()"
   ]
  },
  {
   "cell_type": "markdown",
   "metadata": {},
   "source": [
    " Plot Top 3 Hindi Movies with Highest ROI"
   ]
  },
  {
   "cell_type": "code",
   "execution_count": 26,
   "metadata": {},
   "outputs": [
    {
     "data": {
      "image/png": "[encoded data removed]",
      "text/plain": [
       "<Figure size 800x500 with 1 Axes>"
      ]
     },
     "metadata": {},
     "output_type": "display_data"
    }
   ],
   "source": [
    "\n",
    "plt.figure(figsize=(8, 5))\n",
    "plt.bar(top_3_hindi[\"Title\"], top_3_hindi[\"ROI\"], color='green')\n",
    "plt.xlabel(\"Movie Title\")\n",
    "plt.ylabel(\"ROI\")\n",
    "plt.title(\"Top 3 Hindi Movies with Highest ROI\")\n",
    "\n",
    "plt.show()"
   ]
  },
  {
   "cell_type": "markdown",
   "metadata": {},
   "source": [
    " Plot Top 3 Telugu Movies with Highest ROI"
   ]
  },
  {
   "cell_type": "code",
   "execution_count": 32,
   "metadata": {},
   "outputs": [
    {
     "data": {
      "image/png": "[encoded data removed]",
      "text/plain": [
       "<Figure size 800x500 with 1 Axes>"
      ]
     },
     "metadata": {},
     "output_type": "display_data"
    }
   ],
   "source": [
    "plt.figure(figsize=(8, 5))\n",
    "plt.bar(top_3_telugu[\"Title\"], top_3_telugu[\"ROI\"], color='red')\n",
    "plt.xlabel(\"Movie Title\")\n",
    "plt.ylabel(\"ROI\")\n",
    "plt.title(\"Top 3 Telugu Movies with Highest ROI\")\n",
    "plt.show()"
   ]
  },
  {
   "cell_type": "markdown",
   "metadata": {},
   "source": [
    "\n"
   ]
  }
 ],
 "metadata": {
  "kernelspec": {
   "display_name": "Python 3",
   "language": "python",
   "name": "python3"
  },
  "language_info": {
   "codemirror_mode": {
    "name": "ipython",
    "version": 3
   },
   "file_extension": ".py",
   "mimetype": "text/x-python",
   "name": "python",
   "nbconvert_exporter": "python",
   "pygments_lexer": "ipython3",
   "version": "3.10.12"
  }
 },
 "nbformat": 4,
 "nbformat_minor": 2
}
